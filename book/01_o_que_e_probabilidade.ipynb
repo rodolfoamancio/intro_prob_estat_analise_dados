{
 "cells": [
  {
   "attachments": {},
   "cell_type": "markdown",
   "metadata": {},
   "source": [
    "# O que é probabilidade?\n",
    "\n",
    "Lidamos com incerteza o tempo todo em nossas vidas, ao escolhermos se devemos levar um guarda-chuva ao sair de casa, ao fazer escolhas financeiras ou outros assuntos em que temos informações limitadas e modelos pouco representativos da variabilidade do mundo (ou das pessoas). Ao lidar com esses problemas, muitas vezes atríbuimos probabilidades à eventos específicos. Por exemplo: qual a chance de chover? Definir probabilidade rigorosamente é bem mais difícil do que possa parecer, de fato a comunidade científica se divide em duas visões sobre o assunto:\n",
    "\n",
    "* Abordagem frequentista (ou clássica): associada ao número de vezes que podemos repetir um experimento e obter o mesmo resultado, por exemplo ao lançar uma moeda 100 vezes e registrar o número de vezes que registramos cara virada para cima, podemos tomar o quociente entre os dois valores como a probabilidade de se obter cara.\n",
    "\n",
    "* Abordagem Bayesiana: a descrição anterior é alvo de críticas. Por exemplo: considere uma eleição presidencial, ou a previsão do tempo para um dia específico. Nesses dois casos, os eventos não são repetidos: só há um dia 21/01/2023 ou uma eleição presidencial em 2022 (considere apenas um dos turnos). Em resumo, não são experimentos que podemos repetir e registrar os resultados para depois calcular a frequência. Mas ainda assim definimos probabilidades para eles. De fato, o que os Bayesianos argumentam é que probabilidade é uma medida da crença que temos em um evento, ou a possibilidade dele ocorrer.\n",
    "\n",
    "Apesar das críticas e divergências das duas vertentes, os pilares que sustentam a probabilidade em ambos os campos são os mesmos. Durante esse material, será utilizada a abordagem frequentista. Um leitor atento pode ficar incomodado com a crítica anterior e a escolha desse caminho. Para esse caso, podemos assumir que apesar de alguns eventos não poderem ser repetidos, podemos ainda assim tomar essa medida para indicar se ele deve ocorrer. Conforme veremos, isso não nos imperidá de traçar resultados interessantes e entender como aplicar essa teoria em nossas tomadas de decisão e análises.\n",
    "\n",
    "# Definindo probabilidade\n",
    "\n",
    "## Eventos e espaço amostral\n",
    "\n",
    "Para definir probabilidade precisamos estabelecer algumas nomenclaturas para os conceitos e grandezas que cercam nossa análise. Deonominamos **evento** o possível resultado de um experimento, por exemplo o lançamento de um dado e registro de um número (por exemplo 5) é um evento. Trata-se de uma observação nesse caso. A coleção de possíveis resultados de um experimento é denominado **espaço amostral**, usualmente ele é representado pela letra grega ômega maiúscula, $\\Omega$. Vide os exemplos:\n",
    "\n",
    "- Lançamento de um dado: $\\Omega = \\{1, 2, 3, 4, 5, 6\\}$\n",
    "- Lançamento de uma moeda: $\\Omega = \\{\\textnormal{cara}, \\textnormal{coroa}\\}$, em alguns casos o lançamento de uma moeda aparece no formato $\\Omega = \\{\\textnormal{H}, \\textnormal{T}\\}$ em referência às palavras em inglês heads (para cara) e tails (para coroa), isso é útil pois a inicial das palavras em português são iguais.\n",
    "\n",
    "De forma genética podemos escrever $\\Omega = \\{\\omega_1, \\omega_2, ...\\}$, em que $\\omega_1, \\omega_2,...$ são os possíveis resultados. \n",
    "\n",
    "Um espaço amostral nada mais é que um conjunto, como tal ele pode ser submetido a operações como partição, união, interesecão etc. Isso ficará mais claro a partir de um exemplo:\n",
    "\n",
    "Considerde um dado de 6 lados. Tempos portanto o espaço amostral $\\Omega = \\{1, 2, 3, 4, 5, 6\\}$. Podemos **particionar** esse conjunto com estratégias diferentes, por exemplo em números pares e ímpares: $P = \\{2, 4, 6\\}$ e $I = \\{1, 3, 5\\}$. Ou entre números maiores que $3$ ou não $M = \\{4, 5, 6\\}$ e $m = \\{1, 2, 3\\}$. Nesse caso usamos o critério maior que $3$ para classificar os números, como $3=3$ ele não é maior que si mesmo, e fica no segundo conjunto.\n",
    "\n",
    "Sobre esses conjuntos veremos na próxima seção como atribuir probabilidades, mas antes vamos analisar duas operações de conjuntos:\n",
    "\n",
    "1. **União**: chamamos de união o conjunto formado por todos os elementos de dois conjuntos, representamos a união de dois conjuntos $A$ e $B$ por $A \\cup B$. Por exemplo, a união dos números pares e maiores que 3 é: $P \\cup M = \\{2, 4, 6\\} \\cup \\{4, 5, 6\\} = \\{2, 4, 5, 6\\}$.\n",
    "2. **Intersecção**: chamamos de intersecção o conjunto formado pelos elementos que aparecem nos dois conjuntos, representamos a interseção de dois conjuntos $A$ e $B$ pro $A \\cap B$. Por exemplo, a interseção entre os conjuntos de números ímpares e maiores que 3 é: $I \\cap M = \\{1, 3, 5\\} \\cap \\{4, 5, 6\\} = \\{5\\}$. Nesse caso temos um conjunto de apenas um elemento, pois somente ele aparece nos dois conjuntos.\n",
    "\n",
    "Um conjunto sem nenhum elemento é chamado **conjunto vazio** e é representado por $\\varnothing$. Dois conjuntos são chamados de **disjuntos** se sua interseção tem como resultado um conjunto vazio. Por exemplo, a intersecção entre os conjuntos dos números pares e ímpares: $P \\cap I = \\{2, 4, 6\\} \\cap \\{1, 3, 5\\} = \\varnothing$, pois não há elemento em comum entre os conjuntos."
   ]
  },
  {
   "attachments": {},
   "cell_type": "markdown",
   "metadata": {},
   "source": [
    "## Axiomas da probabilidade\n",
    "\n",
    "A probabilidade ($\\mathbb{P}$) que atribuímos à um evento ($A$) deve obedecer algumas propriedades, são elas:\n",
    "\n",
    "1. $0 \\leq \\mathbb{P}(A) \\leq 1$. Ou seja, uma probabilidade não pode ser negativa nem maior que 1 (ou 100%), o que é bastante razoável;\n",
    "2. $\\mathbb{P}(\\Omega) = 1$. Ou seja, a probabilidade do espaço amostral é 1 (ou 100%), pois o espaço amostral reúne todos os possíveis resultados de um experimento, caso esse número fosse menor que $1$, haveria algum possível resultado não listado.\n",
    "3. Suponha que os eventos $E_1, E_2, ..., E_n$ sejam disjuntos. Então, $\\mathbb{P}(E_1 \\cup E_2 \\cup ... \\cup E_n) = \\mathbb{P}(E_1) + \\mathbb{P}(E_2) + ... +\\mathbb{P}(E_n)$. Retomando o exemplo anterior, os eventos \"observar um número par\" ($P$) e \"observar um número ímpar\" ($I$) são disjuntos. Matematicamente isso significa que $P \\cap I = \\varnothing$, na prática podemos entender isso como eventos excludentes: ou obeservamos um número par ao lançar um dado, ou ímpar. Não é possível um número ser das duas categorias ao mesmo tempo. Então $\\mathbb{P}(P \\cup I) = \\mathbb{P}(\\{1, 2, 3, 4, 5, 6\\}) = \\mathbb{P}(\\{1, 3, 5\\}) + \\mathbb{P}(\\{2, 4, 6\\})$. Podemos entender essa fórmula da seguinte maneira: a probabilidade de se observar um número \"par\" ou \"ímpar\" é ugual à soma da probabilidade de se observar um número \"par\" mais a probabilidade de se observar um número \"ímpar\". Note que esse resultado só é válido para o exemplo pois \"par\" ou \"ímpar\" são excludentes, ou disjuntos. Conforme veremos adiante, caso os eventos tenham um resultado em comum a relação não é válida.  "
   ]
  },
  {
   "attachments": {},
   "cell_type": "markdown",
   "metadata": {},
   "source": [
    "## Calculando uma probabilidade simples\n",
    "\n",
    "De forma simplificada, se consideramos um evento $A$ e um espaço amostral $\\Omega$. Então a probabilidade de se observar o evento $A$ é:\n",
    "\\begin{equation*}\n",
    "    \\mathbb{P}(A) = \\frac{\\text{número de resultados favoráveis à A}}{\\text{número total de possíveis resultados}} = \\frac{\\text{tamanho de } A}{\\text{tamanho de }\\Omega}\n",
    "\\end{equation*}\n",
    "\n",
    "Sendo assim, para um dado $\\Omega = \\{1, 2, 3, 4, 5, 6\\}$,a probabilidade de se observar um resultado par é $\\mathbb{P}(P) = \\frac{\\text{tamamho de } \\{2, 4, 6\\}}{\\text{tamanho de} \\{1,2,3,4,5,6 \\}} = \\frac{3}{6} = \\frac{1}{2}$.\n",
    "\n",
    "Ou ainda, a probabilidade de se observar o número $1$ é: $\\mathbb{P}(\\{1\\}) = 1/6$.\n",
    "\n",
    "Esses resultados atendem aos axiomas anteriores, pode-se calcular a probabilidade de se observar um número ímpar $\\mathbb{P}(I) = 1/2$. Assim, a probabilidade de se observar um número par ou ímpar é $\\mathbb{P}(P \\cup I) = 1/2 + 1/2 = 1$. Note ainda que $P \\cup I = \\Omega$ e $\\mathbb{P}(\\Omega) = 1$.\n",
    "\n",
    "Veremos agora um problema que ocorre quando lidamos com eventos não disjuntos (ou excludentes). Considere a probabilidade de se observar um número ímpar ou maior que 3. Separadamente temos:\n",
    "\n",
    "- $\\mathbb{P}(I) = \\mathbb{\\{1, 3, 5\\}} = 3/6 = 1/2$\n",
    "- $\\mathbb{P}(M) = \\mathbb{\\{4, 5, 6\\}} = 3/6 = 1/2$\n",
    "\n",
    "Nesse caso a soma das probabilidades não corresponde à probabilidade que queremos, note que $\\mathbb{P}(I) + \\mathbb{P}(M) = 1/2 + 1/2 = 1 \\neq \\mathbb{P}(\\text{impar ou maior que 3})$. Isso ocorre pois o número $5$ aparece nas duas listas, ou seja, estamos contando ele duas vezes no cálculo. Temos duas formas de resolver esse problema. \n",
    "\n",
    "1. Sem pensarmos em fórmula podemos escrever o conjunto de interesse $\\text{ímpar ou maior 3} = \\{1, 3, 4, 5, 6\\}$. Nesse caso, teríamos $\\mathbb{P}(\\{1, 3, 4, 5, 6\\}) = 5/6$.\n",
    "2. Também podemos recorrer à uma fórmula, sejam $A$ e $B$ dois eventos não disjuntos, então $\\mathbb{P}(A \\cup B) = \\mathbb{P}(A) + \\mathbb{P}(B) - \\mathbb{P}(A \\cap B)$. Nesse caso, o termo $\\mathbb{P}(A \\cap B)$ é a probabilidade da intersecção dos eventos e serve para subtrair a probabilidade do resultado que está sendo contado mais de uma vez, pois aparece nos dois casos. No nosso caso, podemos ver que $I \\cap M = \\{5\\}$. Logo, $\\mathbb{P}(I \\cap M) = 1/6$. Sendo assim, retomando a fórmula: $\\mathbb{P}(\\text{ímpar ou maior 3}) = \\mathbb{P}(I) + \\mathbb{P}(M) - \\mathbb{P}(I \\cap M) = 1/2 + 1/2 - 1/6 = 5/6$."
   ]
  }
 ],
 "metadata": {
  "kernelspec": {
   "display_name": "base",
   "language": "python",
   "name": "python3"
  },
  "language_info": {
   "name": "python",
   "version": "3.8.8 (default, Apr 13 2021, 19:58:26) \n[GCC 7.3.0]"
  },
  "orig_nbformat": 4,
  "vscode": {
   "interpreter": {
    "hash": "408afe8ba0fc984a0cb44b0671c49e061cdfc3372c6fcbbfef2559eebb6b7013"
   }
  }
 },
 "nbformat": 4,
 "nbformat_minor": 2
}
