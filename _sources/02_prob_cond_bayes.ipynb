{
 "cells": [
  {
   "attachments": {},
   "cell_type": "markdown",
   "metadata": {},
   "source": [
    "# 2. Probabilidade condicional e teorema de Bayes"
   ]
  },
  {
   "attachments": {},
   "cell_type": "markdown",
   "metadata": {},
   "source": [
    "## 2.1. Probabilidade condicional\n",
    "\n",
    "De forma geral, probabilidade condicional repsenta a probabilidade de se observar um resultado sob alguma condição. Vamos defini-la e depois avaliar alguns exemplos. Suponha que desejamos calcular a probabilidade de se observar o evento $A$ sendo que já sabemos que $B$ é ocorreu, então:\n",
    "\n",
    "\\begin{equation}\n",
    "    \\mathbb{P}(A|B) = \\frac{\\mathbb{P}(A \\cap B)}{\\mathbb{P}(B)}\n",
    "\\end{equation}\n",
    "\n",
    "Em que $\\mathbb{P}(A|B)$ é lido como: probabilidade de $A$ dado $B$. Enquanto $\\mathbb{P}(A \\cap B)$ é a probabilidade de se observar $A$ e $B$, ou seja, a intersecção entre os dois eventos. Note que a equação acima só é válida se $\\mathbb{P}(B) > 0$.\n",
    "\n",
    "### Exemplo\n",
    "\n",
    "Retomando o exemplo do lançamento de um dado, temos o espaço amostral $\\Omega = \\{1, 2,3,4,5,6\\}$. Suponha que sabemos que o dado foi lançado e se observou um número maior que $3$, então qual a probabilidade do número observado ter sido par. Temos duas abordagens para resolver o problema:\n",
    "1. A mais direta e sem fórmula parte da observação de que, como sabemos que o resultado foi maior que $3$ então temos como possíveis resultados $\\{4, 5, 6\\}$. Logo, os números pares nesse conjunto são $\\{4, 6\\}$. Daí, temos que dois resultados em três são pares, ou: $\\mathbb{P}(P|M) = 2/3$.\n",
    "2. A segunda abordagem parte da fórmula acima, note que $\\mathbb{P}(P \\cap M) = \\mathbb{P}(\\{2,4,6\\} \\cap \\{ 4, 5, 6 \\}) = \\mathbb{P}(\\{4, 6\\})$ = 2/6. Além disso, $\\mathbb{P}(M) = \\mathbb{P}(\\{4, 5, 6\\}) = 3/6 = 1/2$. Aplicando a fórmula anterior: $\\mathbb{P}(P|M) = \\mathbb{P}(P \\cap M)/\\mathbb{P}(M) = (2/6)/(1/2) = 2/3$."
   ]
  },
  {
   "attachments": {},
   "cell_type": "markdown",
   "metadata": {},
   "source": [
    "## 2.2. Lei da probabilidade total\n",
    "\n",
    "Considere que o espaço amostral possa ser dividido em subconjuntos (ou eventos): $B_1, B_2, B_3, ..., B_n$. E estejamos interessados na probabilidade de um evento $A$, então a seguinte equação é válida:\n",
    "\n",
    "\\begin{equation}\n",
    "    \\mathbb{P}(A) = \\mathbb{P}(A|B_1)\\mathbb{P}(B_1) + \\mathbb{P}(A|B_2)\\mathbb{P}(B_2) + ... + \\mathbb{P}(A|B_n)\\mathbb{P}(B_n)\n",
    "\\end{equation}\n",
    "\n",
    "Podemos entender essa fórmula da seguinte maneira: a probabilidade de se observar o evento $A$ é igual á probabilidade de se observar $A$ condicional a $B_1$ ter ocorrido, multiplicado pela probabilidade de $B_1$ mais a probabilidade de $A$ condicional à $B_2$ etc.\n",
    "\n",
    "### Exemplo\n",
    "\n",
    "Voltando ao exemplo do dado. Note que os possíveis resultados podem ser divididos em pares e ímpares. Agora, qual a probabilidade de se observar um resultado maior que 3? Já vimos como responder à isso de outras maneiras, mas por fins didáticos, se usarmos a lei da probabilidade total encontramos: $\\mathbb{P}(M) = \\mathbb{P}(M|P)\\mathbb{P}(P) + \\mathbb{P}(M|I)\\mathbb{P}(I)$.\n",
    "\n",
    "Note que:\n",
    "- $\\mathbb{P}(M|P) = \\mathbb{P}(M \\cap P)/\\mathbb{P}(P) = \\mathbb{P}(\\{4, 6\\})/\\mathbb{P}(\\{2, 4, 6\\}) = 2/3$\n",
    "- $\\mathbb{P}(M|I) = \\mathbb{P}(M \\cap I)/\\mathbb{P}(I) = \\mathbb{P}(\\{5\\})/\\mathbb{P}(\\{1, 3, 5\\}) = 1/3$\n",
    "- $\\mathbb{P}(P) = 1/2$\n",
    "- $\\mathbb{P}(I) = 1/2$\n",
    "\n",
    "Aplicando a fórmula anterior encontramos $\\mathbb{P}(M) = (2/3)(1/2) + (1/3)(1/2) = 1/2$."
   ]
  },
  {
   "attachments": {},
   "cell_type": "markdown",
   "metadata": {},
   "source": [
    "## 2.3. Teorema de Bayes\n",
    "\n",
    "A probabilidade condicional é peça fundamental de um dos resultados mais importantes da estatística: o teorema de Bayes. Em geral durante pesquisas científicas ou investigações nós formulamos hipóteses. Conforme coletamos mais dados, ou temos uma nova descoberta, precisamos atualizar nossa probabilidade. Esse é o problema que entenderemos como resulver. Partiremos da fórmula:\n",
    "\n",
    "\\begin{equation}\n",
    "    \\mathbb{P}(A | B) = \\frac{\\mathbb{P}(B | A) \\mathbb{P}(A)}{\\mathbb{P}(B)}\n",
    "\\end{equation}\n",
    "\n",
    "Nesse caso, a partir de uma probabilidade condicional $\\mathbb{P}(B|A)$, temos um caminho para encontrar $\\mathbb{P}(A|B)$. Para ficar mais claro, considere que $A$ é uma hpótese de um pesquisador. Com base em suas pesquisas, a probabilidade dessa hipótese estar correta é $\\mathbb{P}(A)$. Com o tempo, e realização de experimentos ele se depara com um resultado $B$, que ocorre com probabilidade $\\mathbb{P}(B)$. Além disso, ele sabe que se a hipótese dele ($A$) estiver correta, então a probabilidade de se observar $B$ é $\\mathbb{P}(B|A)$.\n",
    "\n",
    "### Exemplo\n",
    "\n",
    "Um dos exemplos mais clássicos sobre a aplicação do teorema de Bayes refere-se ao resultado de exames médicos. Infelizmente os exames estão sujeitos a erros:\n",
    "- Falso positivo: resultado do exame é positivo, apesar da pessoa não ter a doença,\n",
    "- Falso negativo: resultado do exame é negativo, apesar da pessoa ter a doença.\n",
    "\n",
    "Considere o seguinte problema: uma doença ocorre na população com probabilidade 5%. Para as pessoas que tem a doença, a probabilidade de se observar um resultado positivo é 90%, e negativo é 10% (*falso negativo*). Por outro lado, para quem não tem a doença, a probabilidade de ter um resultado positivo é 4% (falso positivo), enquanto a probabilidade de ter resltado negativo é 96%. Podemos resumir isso na tabela:\n",
    "\n",
    "|Teste | Doente (5%) | Não doente (95%) |\n",
    "|------|-------------|------------------|\n",
    "|Positivo| 90% | 4%|\n",
    "|Negativo| 10% |96%|\n",
    "\n",
    "Nesse caso, qual a probabilidade da pessoa estar doente, sendo que o resultado do exame foi positivo?\n",
    "\n",
    "Note que queremos usar a fórmula de Bayes. Adaptando $A$ e $B$ para nossos eventos, temos:\n",
    "\n",
    "\\begin{equation*}\n",
    "    \\mathbb{P}(D|+) = \\frac{\\mathbb{P}(+|D) \\mathbb{P}(D)}{\\mathbb{P}(+)}\n",
    "\\end{equation*}\n",
    "\n",
    "Em que $D$ representa pessoa doente, e $+$ representam resultado positivo. Note que já temos alguns dos dados pelo enunciado:\n",
    "- A probabilidade de uma pessoa ter um resultado positivo sendo que ela está doente é: $\\mathbb{P}(+|D) = 90\\% = 0.9$\n",
    "- A probabilidade de uma pessoa ter a doença é $\\mathbb{P}(D) = 5\\% = 0.05$\n",
    "\n",
    "Por fim, precisamos de uma última informação, a probabilidade de uma pessoa ter resultado positivo. Nesse ponto, usamos a lei da probabilidade total. Note que existem duas possibilidades que resultam em teste positivo: \"pessoa doente e resultado positivo\" ou \"pessoa não doente e resultado positivo\". Teríamos:\n",
    "\n",
    "\\begin{equation*}\n",
    "    \\mathbb{P}(+) = \\mathbb{P}(+|D)\\mathbb{P}(D) + \\mathbb{P}(+|ND)\\mathbb{P}(ND)\n",
    "\\end{equation*}\n",
    "\n",
    "Em que $ND$ é não doente, atualizando os valores, temos:\n",
    "\n",
    "\\begin{equation*}\n",
    "    \\mathbb{P}(+) = 0.9 \\times 0.05 + 0.04 \\times 0.95\n",
    "\\end{equation*}\n",
    "\n",
    "Usando ``python`` para fazer os cálculos:"
   ]
  },
  {
   "cell_type": "code",
   "execution_count": 1,
   "metadata": {},
   "outputs": [
    {
     "name": "stdout",
     "output_type": "stream",
     "text": [
      "A probabilidade de uma pessoa estar doente, sendo que ela testou positivo, é: 0.5422\n"
     ]
    }
   ],
   "source": [
    "p_positivo_doente = 0.9\n",
    "p_doente = 0.05\n",
    "p_positivo = (0.9*0.05 + 0.04*0.95)\n",
    "\n",
    "p_doente_positivo = p_positivo_doente*p_doente/p_positivo\n",
    "\n",
    "print(f\"A probabilidade de uma pessoa estar doente, sendo que ela testou positivo, é: {p_doente_positivo:.4f}\")"
   ]
  },
  {
   "attachments": {},
   "cell_type": "markdown",
   "metadata": {},
   "source": [
    "Logo, a probabilidade da pessoa estar doente, sendo que seu teste deu positivo é de 54%."
   ]
  }
 ],
 "metadata": {
  "kernelspec": {
   "display_name": "base",
   "language": "python",
   "name": "python3"
  },
  "language_info": {
   "codemirror_mode": {
    "name": "ipython",
    "version": 3
   },
   "file_extension": ".py",
   "mimetype": "text/x-python",
   "name": "python",
   "nbconvert_exporter": "python",
   "pygments_lexer": "ipython3",
   "version": "3.8.8 (default, Apr 13 2021, 19:58:26) \n[GCC 7.3.0]"
  },
  "orig_nbformat": 4,
  "vscode": {
   "interpreter": {
    "hash": "408afe8ba0fc984a0cb44b0671c49e061cdfc3372c6fcbbfef2559eebb6b7013"
   }
  }
 },
 "nbformat": 4,
 "nbformat_minor": 2
}
